{
 "cells": [
  {
   "cell_type": "code",
   "execution_count": 1,
   "metadata": {},
   "outputs": [],
   "source": [
    "import sys\n",
    "import os\n",
    "\n",
    "import pandas as pd\n",
    "import numpy as np\n",
    "import seaborn as sb\n",
    "import matplotlib.pyplot as plt\n",
    "import scipy.io as sio\n",
    "\n",
    "from pandas.plotting import scatter_matrix\n",
    "from sklearn.utils import shuffle\n",
    "from sklearn.metrics import confusion_matrix, f1_score, roc_curve, roc_auc_score, classification_report\n",
    "from sklearn.preprocessing import StandardScaler\n",
    "from sklearn.svm import SVC"
   ]
  },
  {
   "cell_type": "code",
   "execution_count": 2,
   "metadata": {},
   "outputs": [],
   "source": [
    "# Read and build DataFrames\n",
    "df_test = sio.loadmat('dados_teste.mat')\n",
    "df_train = sio.loadmat('dados_treinamento.mat')\n",
    "df_val = sio.loadmat('dados_val.mat')\n",
    "\n",
    "df_test = pd.DataFrame(np.concatenate((df_test['Xt'], df_test['yt']), axis=1),columns=['x1', 'x2', 'y'])\n",
    "df_train = pd.DataFrame(np.concatenate((df_train['X'], df_train['y']), axis=1),columns=['x1', 'x2', 'y'])\n",
    "df_val = pd.DataFrame(np.concatenate((df_val['Xval'], df_val['yval']), axis=1),columns=['x1', 'x2', 'y'])\n",
    "\n",
    "# Data normalization and encoding\n",
    "scaler = StandardScaler()\n",
    "df_train_out = df_train.loc[:,'y']\n",
    "df_train_inp = df_train.drop('y', axis=1)\n",
    "scaler.fit(df_train_inp) \n",
    "\n",
    "df_train_inp_scaled = scaler.transform(df_train_inp)\n",
    "\n",
    "df_val_out = df_val.loc[:,'y']\n",
    "df_val_inp = df_val.drop('y', axis=1)\n",
    "df_val_inp_scaled = scaler.transform(df_val_inp)\n",
    "\n",
    "\n",
    "df_test_out = df_test.loc[:,'y']\n",
    "df_test_inp = df_test.drop('y', axis=1)\n",
    "df_test_inp_scaled = scaler.transform(df_test_inp)\n"
   ]
  },
  {
   "cell_type": "code",
   "execution_count": 3,
   "metadata": {},
   "outputs": [],
   "source": [
    "def plot_history(history):\n",
    "    # plot training history\n",
    "    plt.figure(figsize=(10,5))\n",
    "    plt.grid(color='#919191', linestyle=':', linewidth=1)\n",
    "    plt.plot(history.history['loss'], label='Train')\n",
    "    plt.plot(history.history['val_loss'], label='Validation')\n",
    "    plt.grid(True)\n",
    "    plt.legend()\n",
    "    plt.show()"
   ]
  },
  {
   "cell_type": "code",
   "execution_count": 4,
   "metadata": {},
   "outputs": [],
   "source": [
    "def plot_roc(df_test_out, preds):\n",
    "    # Results ROC\n",
    "    fpr, tpr, thresholds = roc_curve(df_test_out, preds)\n",
    "    roc_score = roc_auc_score(df_test_out, preds)\n",
    "    plt.figure(figsize=(10,5))\n",
    "    plt.grid(color='#919191', linestyle=':', linewidth=1)\n",
    "    plt.plot(fpr, tpr, label='MPL')\n",
    "    plt.plot([0, 1], [0, 1], color='red', lw=1, linestyle='--', label='Decisão aleatória')\n",
    "    plt.title('Curva ROC')\n",
    "    plt.xlabel('FP')\n",
    "    plt.ylabel('TP')\n",
    "    plt.xlim([-0.05, 1.0])\n",
    "    plt.ylim([-0.05, 1.05])\n",
    "    plt.grid(True)\n",
    "    plt.legend()\n",
    "    plt.show()\n",
    "    print(\"ROC Score\", roc_score)"
   ]
  },
  {
   "cell_type": "code",
   "execution_count": 5,
   "metadata": {},
   "outputs": [
    {
     "name": "stdout",
     "output_type": "stream",
     "text": [
      "[LibSVM]"
     ]
    },
    {
     "data": {
      "text/plain": [
       "SVC(C=1, cache_size=200, class_weight=None, coef0=0.0,\n",
       "    decision_function_shape='ovr', degree=3, gamma='auto', kernel='rbf',\n",
       "    max_iter=-1, probability=False, random_state=None, shrinking=True,\n",
       "    tol=0.001, verbose=True)"
      ]
     },
     "execution_count": 5,
     "metadata": {},
     "output_type": "execute_result"
    }
   ],
   "source": [
    "svm = SVC(C=1, gamma='auto', kernel='rbf', tol=1e-3,verbose=True)\n",
    "svm.fit(df_train_inp, df_train_out)"
   ]
  },
  {
   "cell_type": "code",
   "execution_count": 6,
   "metadata": {},
   "outputs": [
    {
     "data": {
      "text/plain": [
       "<matplotlib.contour.QuadContourSet at 0x7fdee5268310>"
      ]
     },
     "execution_count": 6,
     "metadata": {},
     "output_type": "execute_result"
    },
    {
     "data": {
      "image/png": "[encoded data removed]",
      "text/plain": [
       "<Figure size 432x288 with 1 Axes>"
      ]
     },
     "metadata": {
      "needs_background": "light"
     },
     "output_type": "display_data"
    }
   ],
   "source": [
    "# Região decisão dados de treino !\n",
    "h = 0.1\n",
    "x1_min, x1_max = df_train_inp['x1'].min(), df_train_inp['x1'].max()\n",
    "x2_min, x2_max = df_train_inp['x2'].min(), df_train_inp['x2'].max()\n",
    " \n",
    "xx, yy = np.meshgrid(\n",
    "    np.arange(x1_min, x1_max, h),\n",
    "    np.arange(x2_min, x2_max, h))\n",
    "\n",
    "Z = svm.predict(np.c_[xx.ravel(), yy.ravel()])\n",
    "Z = Z.reshape(xx.shape)\n",
    "plt.contourf(xx,yy,Z,cmap=plt.cm.coolwarm, alpha=0.8)"
   ]
  },
  {
   "cell_type": "code",
   "execution_count": 20,
   "metadata": {},
   "outputs": [
    {
     "name": "stdout",
     "output_type": "stream",
     "text": [
      "              precision    recall  f1-score   support\n",
      "\n",
      "         0.0       0.86      0.87      0.87       499\n",
      "         1.0       0.87      0.86      0.87       501\n",
      "\n",
      "    accuracy                           0.87      1000\n",
      "   macro avg       0.87      0.87      0.87      1000\n",
      "weighted avg       0.87      0.87      0.87      1000\n",
      "\n"
     ]
    }
   ],
   "source": [
    "class_pred = svm.predict(df_test_inp)\n",
    "\n",
    "print(classification_report(\\\n",
    "    df_test_out.to_numpy(), class_pred))\n"
   ]
  },
  {
   "cell_type": "code",
   "execution_count": null,
   "metadata": {},
   "outputs": [],
   "source": []
  }
 ],
 "metadata": {
  "kernelspec": {
   "display_name": "Python 3",
   "language": "python",
   "name": "python3"
  },
  "language_info": {
   "codemirror_mode": {
    "name": "ipython",
    "version": 3
   },
   "file_extension": ".py",
   "mimetype": "text/x-python",
   "name": "python",
   "nbconvert_exporter": "python",
   "pygments_lexer": "ipython3",
   "version": "3.7.4"
  }
 },
 "nbformat": 4,
 "nbformat_minor": 4
}
