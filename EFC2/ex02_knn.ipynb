{
 "cells": [
  {
   "cell_type": "code",
   "execution_count": 204,
   "metadata": {},
   "outputs": [],
   "source": [
    "import math\n",
    "import sys\n",
    "import pickle\n",
    "from math import log10 as log\n",
    "\n",
    "import pandas as pd\n",
    "import numpy as np\n",
    "import seaborn as sb\n",
    "import matplotlib.pyplot as plt\n",
    "\n",
    "from pandas.plotting import scatter_matrix\n",
    "from sklearn.utils import shuffle\n",
    "from sklearn.metrics import confusion_matrix, f1_score, roc_curve\n",
    "from sklearn.preprocessing import StandardScaler, MinMaxScaler\n",
    "from sklearn.preprocessing import OneHotEncoder\n"
   ]
  },
  {
   "cell_type": "code",
   "execution_count": 205,
   "metadata": {},
   "outputs": [],
   "source": [
    "# Load data\n",
    "df_train_in = pd.read_csv('X_train.txt', header=None, delim_whitespace=True)\n",
    "df_train_out = pd.read_csv('y_train.txt', header=None, delim_whitespace=True)\n",
    "\n",
    "df_test_in = pd.read_csv('X_test.txt', header=None, delim_whitespace=True)\n",
    "df_test_out = pd.read_csv('y_test.txt', header=None, delim_whitespace=True)"
   ]
  },
  {
   "cell_type": "code",
   "execution_count": 206,
   "metadata": {},
   "outputs": [],
   "source": [
    "# Pre processing\n",
    "'''\n",
    "OneHotEncode    0–caminhada; 1 –subindoescadas; 2 –descendo escadas; 3 –sentado; 4 –em pé; 5 –deitado.\n",
    "'''\n",
    "encoder = OneHotEncoder(categories='auto')\n",
    "encoder.fit(df_train_out)\n",
    "\n",
    "df_train_out_scaled = encoder.transform(df_train_out).toarray()\n",
    "df_test_out_scaled = encoder.transform(df_test_out).toarray()\n",
    "\n",
    "# Normalization\n",
    "scaler = StandardScaler() \n",
    "scaler.fit(df_train_in)\n",
    "\n",
    "df_train_in_scaled = scaler.transform(df_train_in)\n",
    "df_test_in_scaled = scaler.transform(df_test_in)"
   ]
  },
  {
   "cell_type": "code",
   "execution_count": 207,
   "metadata": {},
   "outputs": [],
   "source": [
    "def get_distance(inp, train, p):\n",
    "    return np.argsort(np.sum((train - inp)**p, axis=1)**(1/p))\n",
    "\n",
    "def make_prediction(k, distances):\n",
    "    votes = [df_train_out.to_numpy()[e] for e in distances[0:k]]\n",
    "    unique, counts = np.unique(votes, return_counts=True)\n",
    "    pred = dict(zip(unique, counts))\n",
    "    return max(pred, key=lambda key: pred[key])\n",
    " "
   ]
  },
  {
   "cell_type": "code",
   "execution_count": 209,
   "metadata": {},
   "outputs": [
    {
     "name": "stdout",
     "output_type": "stream",
     "text": [
      "2946"
     ]
    }
   ],
   "source": [
    "# Calc Distance\n",
    "p = 2\n",
    "distances_list = []\n",
    "idx = 0\n",
    "for test_in in df_test_in_scaled:\n",
    "    distances_list.append(get_distance(test_in, df_train_in_scaled, p))\n",
    "    sys.stdout.write(\"\\r{}\".format(idx))\n",
    "    sys.stdout.flush()\n",
    "    idx += 1"
   ]
  },
  {
   "cell_type": "code",
   "execution_count": 213,
   "metadata": {},
   "outputs": [
    {
     "name": "stdout",
     "output_type": "stream",
     "text": [
      "7352\n",
      "Test\n",
      "[[  0   0   0   0   0 496]\n",
      " [  0   0   0   0   0 471]\n",
      " [  0   0   0   0   0 420]\n",
      " [  0   0   0   0   0 491]\n",
      " [  0   0   0   0   0 532]\n",
      " [  0   0   0   0   0 537]]\n"
     ]
    }
   ],
   "source": [
    "# Predict\n",
    "k = 100000\n",
    "k = k if k<len(distances_list[0]) else len(distances_list[0])\n",
    "print('k',k)\n",
    "test_out_predict = []\n",
    "for distances in distances_list:\n",
    "    test_out_predict.append(make_prediction(k, distances))\n",
    "\n",
    "cm = confusion_matrix(df_test_out.to_numpy(),test_out_predict)\n",
    "print('Test')\n",
    "print(cm)\n"
   ]
  },
  {
   "cell_type": "code",
   "execution_count": null,
   "metadata": {},
   "outputs": [],
   "source": []
  }
 ],
 "metadata": {
  "kernelspec": {
   "display_name": "Python 3",
   "language": "python",
   "name": "python3"
  },
  "language_info": {
   "codemirror_mode": {
    "name": "ipython",
    "version": 3
   },
   "file_extension": ".py",
   "mimetype": "text/x-python",
   "name": "python",
   "nbconvert_exporter": "python",
   "pygments_lexer": "ipython3",
   "version": "3.7.4"
  }
 },
 "nbformat": 4,
 "nbformat_minor": 4
}
