{
 "cells": [
  {
   "cell_type": "code",
   "execution_count": 54,
   "metadata": {},
   "outputs": [],
   "source": [
    "import math\n",
    "import sys\n",
    "import pickle\n",
    "from math import log10 as log\n",
    "\n",
    "import pandas as pd\n",
    "import numpy as np\n",
    "import seaborn as sb\n",
    "import matplotlib.pyplot as plt\n",
    "\n",
    "from pandas.plotting import scatter_matrix\n",
    "from sklearn.utils import shuffle\n",
    "from sklearn.metrics import confusion_matrix, f1_score, roc_curve\n",
    "from sklearn.preprocessing import StandardScaler, MinMaxScaler\n",
    "from sklearn.preprocessing import OneHotEncoder\n"
   ]
  },
  {
   "cell_type": "code",
   "execution_count": 55,
   "metadata": {},
   "outputs": [],
   "source": [
    "# Load data\n",
    "df_train_in = pd.read_csv('X_train.txt', header=None, delim_whitespace=True)\n",
    "df_train_out = pd.read_csv('y_train.txt', header=None, delim_whitespace=True)\n",
    "\n",
    "df_test_in = pd.read_csv('X_test.txt', header=None, delim_whitespace=True)\n",
    "df_test_out = pd.read_csv('y_test.txt', header=None, delim_whitespace=True)"
   ]
  },
  {
   "cell_type": "code",
   "execution_count": 56,
   "metadata": {},
   "outputs": [],
   "source": [
    "# Pre processing\n",
    "'''\n",
    "OneHotEncode    0–caminhada; 1 –subindoescadas; 2 –descendo escadas; 3 –sentado; 4 –em pé; 5 –deitado.\n",
    "'''\n",
    "encoder = OneHotEncoder(categories='auto')\n",
    "encoder.fit(df_train_out)\n",
    "\n",
    "df_train_out_scaled = encoder.transform(df_train_out).toarray()\n",
    "df_test_out_scaled = encoder.transform(df_test_out).toarray()\n",
    "\n",
    "# Normalization\n",
    "scaler = StandardScaler() \n",
    "scaler.fit(df_train_in)\n",
    "\n",
    "df_train_in_scaled = scaler.transform(df_train_in)\n",
    "df_test_in_scaled = scaler.transform(df_test_in)"
   ]
  },
  {
   "cell_type": "code",
   "execution_count": 79,
   "metadata": {},
   "outputs": [
    {
     "data": {
      "text/plain": [
       "array([ 10.999577  ,  11.27287869,  11.3299882 , ..., 115.7074766 ,\n",
       "       155.96358458, 157.04550776])"
      ]
     },
     "execution_count": 79,
     "metadata": {},
     "output_type": "execute_result"
    }
   ],
   "source": [
    "def get_dist(inp, train ,p):\n",
    "    d = np.ones(len(train))\n",
    "    for k in range(len(train)):\n",
    "        t_inp = train[k]\n",
    "        aux = np.ones(len(t_inp))\n",
    "        for i in range(len(t_inp)):\n",
    "            aux[i] = abs(t_inp[i] - inp[i])**p\n",
    "        aux = np.array(aux)\n",
    "        d[k] = np.sum(aux)**(1./p)\n",
    "    return np.array(d)\n",
    "p = 2\n",
    "d = get_dist(df_test_in.to_numpy()[0], df_train_in_scaled, p)\n",
    "np.sort(d)"
   ]
  },
  {
   "cell_type": "code",
   "execution_count": 76,
   "metadata": {},
   "outputs": [
    {
     "data": {
      "text/plain": [
       "7352"
      ]
     },
     "execution_count": 76,
     "metadata": {},
     "output_type": "execute_result"
    }
   ],
   "source": [
    "len(df_train_in_scaled)"
   ]
  },
  {
   "cell_type": "code",
   "execution_count": 1,
   "metadata": {},
   "outputs": [
    {
     "ename": "NameError",
     "evalue": "name 'np' is not defined",
     "output_type": "error",
     "traceback": [
      "\u001b[0;31m---------------------------------------------------------------------------\u001b[0m",
      "\u001b[0;31mNameError\u001b[0m                                 Traceback (most recent call last)",
      "\u001b[0;32m<ipython-input-1-edf2cf4b792c>\u001b[0m in \u001b[0;36m<module>\u001b[0;34m\u001b[0m\n\u001b[1;32m      3\u001b[0m \u001b[0;31m# labels = ['caminhada', 'subindoescadas', 'descendo escadas', 'sentado', 'em pé', 'Deitado']\u001b[0m\u001b[0;34m\u001b[0m\u001b[0;34m\u001b[0m\u001b[0;34m\u001b[0m\u001b[0m\n\u001b[1;32m      4\u001b[0m \u001b[0;31m# Training dataset CM\u001b[0m\u001b[0;34m\u001b[0m\u001b[0;34m\u001b[0m\u001b[0;34m\u001b[0m\u001b[0m\n\u001b[0;32m----> 5\u001b[0;31m \u001b[0mones\u001b[0m \u001b[0;34m=\u001b[0m \u001b[0mnp\u001b[0m\u001b[0;34m.\u001b[0m\u001b[0mones\u001b[0m\u001b[0;34m(\u001b[0m\u001b[0;34m[\u001b[0m\u001b[0mlen\u001b[0m\u001b[0;34m(\u001b[0m\u001b[0mdf_train_in_scaled\u001b[0m\u001b[0;34m)\u001b[0m\u001b[0;34m,\u001b[0m\u001b[0;36m1\u001b[0m\u001b[0;34m]\u001b[0m\u001b[0;34m)\u001b[0m\u001b[0;34m\u001b[0m\u001b[0;34m\u001b[0m\u001b[0m\n\u001b[0m\u001b[1;32m      6\u001b[0m \u001b[0mfi\u001b[0m \u001b[0;34m=\u001b[0m \u001b[0mnp\u001b[0m\u001b[0;34m.\u001b[0m\u001b[0mconcatenate\u001b[0m\u001b[0;34m(\u001b[0m\u001b[0;34m(\u001b[0m\u001b[0mones\u001b[0m\u001b[0;34m,\u001b[0m \u001b[0mdf_train_in_scaled\u001b[0m\u001b[0;34m)\u001b[0m\u001b[0;34m,\u001b[0m\u001b[0maxis\u001b[0m\u001b[0;34m=\u001b[0m\u001b[0;36m1\u001b[0m\u001b[0;34m)\u001b[0m\u001b[0;34m.\u001b[0m\u001b[0mT\u001b[0m\u001b[0;34m\u001b[0m\u001b[0;34m\u001b[0m\u001b[0m\n\u001b[1;32m      7\u001b[0m \u001b[0myest\u001b[0m \u001b[0;34m=\u001b[0m \u001b[0mestimate\u001b[0m\u001b[0;34m(\u001b[0m\u001b[0mout_num\u001b[0m\u001b[0;34m,\u001b[0m \u001b[0mfi\u001b[0m\u001b[0;34m,\u001b[0m \u001b[0mw\u001b[0m\u001b[0;34m)\u001b[0m\u001b[0;34m\u001b[0m\u001b[0;34m\u001b[0m\u001b[0m\n",
      "\u001b[0;31mNameError\u001b[0m: name 'np' is not defined"
     ]
    }
   ],
   "source": [
    "# Predict\n",
    "k = 1\n",
    "# labels = ['caminhada', 'subindoescadas', 'descendo escadas', 'sentado', 'em pé', 'Deitado']\n",
    "# Training dataset CM \n",
    "\n",
    "cm = confusion_matrix(\n",
    "    np.array([m for m in np.argmax(df_train_out_scaled, axis=1)]),\n",
    "    np.array([m for m in np.argmax(yest, axis=1)]))\n",
    "print('Train')\n",
    "print(cm)\n",
    "print('\\n\\n')\n",
    "# Test dataset CM \n",
    "ones = np.ones([len(df_test_in_scaled),1])\n",
    "fi = np.concatenate((ones, df_test_in_scaled),axis=1).T\n",
    "yest = estimate(out_num, fi, w)\n",
    "\n",
    "cm = confusion_matrix(\n",
    "    np.array([m for m in np.argmax(df_test_out_scaled, axis=1)]),\n",
    "    np.array([m for m in np.argmax(yest, axis=1)]))\n",
    "print('Test')\n",
    "print(cm)\n"
   ]
  },
  {
   "cell_type": "code",
   "execution_count": null,
   "metadata": {},
   "outputs": [],
   "source": []
  },
  {
   "cell_type": "code",
   "execution_count": null,
   "metadata": {},
   "outputs": [],
   "source": []
  }
 ],
 "metadata": {
  "kernelspec": {
   "display_name": "Python 3",
   "language": "python",
   "name": "python3"
  },
  "language_info": {
   "codemirror_mode": {
    "name": "ipython",
    "version": 3
   },
   "file_extension": ".py",
   "mimetype": "text/x-python",
   "name": "python",
   "nbconvert_exporter": "python",
   "pygments_lexer": "ipython3",
   "version": "3.7.4"
  }
 },
 "nbformat": 4,
 "nbformat_minor": 4
}
