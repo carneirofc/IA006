{
 "cells": [
  {
   "cell_type": "code",
   "execution_count": 2,
   "metadata": {},
   "outputs": [],
   "source": [
    "import math\n",
    "import sys\n",
    "import pickle\n",
    "from math import log10 as log\n",
    "\n",
    "import pandas as pd\n",
    "import numpy as np\n",
    "import seaborn as sb\n",
    "import matplotlib.pyplot as plt\n",
    "\n",
    "from pandas.plotting import scatter_matrix\n",
    "from sklearn.utils import shuffle\n",
    "from sklearn.metrics import confusion_matrix, f1_score, roc_curve\n",
    "from sklearn.preprocessing import StandardScaler, MinMaxScaler\n",
    "from sklearn.preprocessing import OneHotEncoder\n"
   ]
  },
  {
   "cell_type": "code",
   "execution_count": 3,
   "metadata": {},
   "outputs": [],
   "source": [
    "# Load data\n",
    "df_train_in = pd.read_csv('X_train.txt', header=None, delim_whitespace=True)\n",
    "df_train_out = pd.read_csv('y_train.txt', header=None, delim_whitespace=True)\n",
    "\n",
    "df_test_in = pd.read_csv('X_test.txt', header=None, delim_whitespace=True)\n",
    "df_test_out = pd.read_csv('y_test.txt', header=None, delim_whitespace=True)"
   ]
  },
  {
   "cell_type": "code",
   "execution_count": 4,
   "metadata": {},
   "outputs": [],
   "source": [
    "# Pre processing\n",
    "'''\n",
    "OneHotEncode    0–caminhada; 1 –subindoescadas; 2 –descendo escadas; 3 –sentado; 4 –em pé; 5 –deitado.\n",
    "'''\n",
    "encoder = OneHotEncoder(categories='auto')\n",
    "encoder.fit(df_train_out)\n",
    "\n",
    "df_train_out_scaled = encoder.transform(df_train_out).toarray()\n",
    "df_test_out_scaled = encoder.transform(df_test_out).toarray()\n",
    "\n",
    "# Normalization\n",
    "scaler = StandardScaler() \n",
    "scaler.fit(df_train_in)\n",
    "\n",
    "df_train_in_scaled = scaler.transform(df_train_in)\n",
    "df_test_in_scaled = scaler.transform(df_test_in)"
   ]
  },
  {
   "cell_type": "code",
   "execution_count": 5,
   "metadata": {},
   "outputs": [],
   "source": [
    "def get_distance(inp, train, p):\n",
    "    return np.argsort(np.sum((train - inp)**p, axis=1)**(1/p))\n",
    "\n",
    "def make_prediction(k, distances):\n",
    "    votes = [df_train_out.to_numpy()[e] for e in distances[0:k]]\n",
    "    unique, counts = np.unique(votes, return_counts=True)\n",
    "    pred = dict(zip(unique, counts))\n",
    "    return max(pred, key=lambda key: pred[key])\n",
    " "
   ]
  },
  {
   "cell_type": "code",
   "execution_count": 6,
   "metadata": {},
   "outputs": [
    {
     "name": "stdout",
     "output_type": "stream",
     "text": [
      "2946"
     ]
    }
   ],
   "source": [
    "# Calc Distance\n",
    "p = 2\n",
    "distances_list = []\n",
    "idx = 0\n",
    "for test_in in df_test_in_scaled:\n",
    "    distances_list.append(get_distance(test_in, df_train_in_scaled, p))\n",
    "    sys.stdout.write(\"\\r{}\".format(idx))\n",
    "    sys.stdout.flush()\n",
    "    idx += 1"
   ]
  },
  {
   "cell_type": "code",
   "execution_count": 8,
   "metadata": {},
   "outputs": [
    {
     "name": "stdout",
     "output_type": "stream",
     "text": [
      "k 1000\n",
      "Test\n",
      "[[492   3   1   0   0   0]\n",
      " [ 72 396   3   0   0   0]\n",
      " [177  55 188   0   0   0]\n",
      " [  0   4   0 178 309   0]\n",
      " [  0   1   0   7 524   0]\n",
      " [  0   1   0  10  41 485]]\n"
     ]
    }
   ],
   "source": [
    "# Predict\n",
    "k = 1000\n",
    "k = k if k<len(distances_list[0]) else len(distances_list[0])\n",
    "print('k',k)\n",
    "test_out_predict = []\n",
    "for distances in distances_list:\n",
    "    test_out_predict.append(make_prediction(k, distances))\n",
    "\n",
    "cm = confusion_matrix(df_test_out.to_numpy(),test_out_predict)\n",
    "print('Test')\n",
    "print(cm)\n"
   ]
  },
  {
   "cell_type": "code",
   "execution_count": null,
   "metadata": {},
   "outputs": [],
   "source": []
  }
 ],
 "metadata": {
  "kernelspec": {
   "display_name": "Python 3",
   "language": "python",
   "name": "python3"
  },
  "language_info": {
   "codemirror_mode": {
    "name": "ipython",
    "version": 3
   },
   "file_extension": ".py",
   "mimetype": "text/x-python",
   "name": "python",
   "nbconvert_exporter": "python",
   "pygments_lexer": "ipython3",
   "version": "3.7.4"
  }
 },
 "nbformat": 4,
 "nbformat_minor": 4
}
