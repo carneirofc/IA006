{
 "cells": [
  {
   "cell_type": "code",
   "execution_count": 1,
   "metadata": {},
   "outputs": [],
   "source": [
    "import math\n",
    "import sys\n",
    "import pickle\n",
    "from math import log10 as log\n",
    "\n",
    "import pandas as pd\n",
    "import numpy as np\n",
    "import seaborn as sb\n",
    "import matplotlib.pyplot as plt\n",
    "\n",
    "from pandas.plotting import scatter_matrix\n",
    "from sklearn.utils import shuffle\n",
    "from sklearn.metrics import confusion_matrix, f1_score, roc_curve\n",
    "from sklearn.preprocessing import StandardScaler, MinMaxScaler\n"
   ]
  },
  {
   "cell_type": "code",
   "execution_count": 2,
   "metadata": {},
   "outputs": [],
   "source": [
    "def load():\n",
    "    return pd.read_csv('dados_voz_genero.csv')\n",
    "\n",
    "def dataset(data, split=0.8):\n",
    "    man = data.loc[data['label'] == 1]\n",
    "    woman = data.loc[data['label'] == 0]\n",
    "\n",
    "    man.iloc[:int(len(man)*split),:]\n",
    "    man.iloc[int(len(man)*split):,:]\n",
    "\n",
    "    woman.iloc[:int(len(woman)*split),:]\n",
    "    woman.iloc[int(len(woman)*split):,:]\n",
    "\n",
    "    df_train = pd.concat([\n",
    "            man.iloc[:int(len(man)*split),:],\n",
    "            woman.iloc[:int(len(woman)*split),:]],\n",
    "        ignore_index=True)\n",
    "    df_test = pd.concat([\n",
    "        man.iloc[int(len(man)*split):,:],\n",
    "        woman.iloc[int(len(woman)*split):,:]],\n",
    "    ignore_index=True)\n",
    "    \n",
    "    df_train = shuffle(df_train)\n",
    "    df_test = shuffle(df_test)\n",
    "    \n",
    "    return df_train, df_test\n",
    "\n",
    "def plot_data(df):\n",
    "    fig, ax = plt.subplots()\n",
    "    df.hist(figsize=(30,15), ax=ax)\n",
    "    fig.savefig('img1/data_hist.png', dpi=600)\n",
    "\n",
    "    fig, ax = plt.subplots()\n",
    "    plt.matshow(df.corr())\n",
    "    cb = plt.colorbar()\n",
    "    cb.ax.tick_params(labelsize=14)\n",
    "    plt.xticks(range(df.shape[1]), df.columns, fontsize=14, rotation=45)\n",
    "    plt.yticks(range(df.shape[1]), df.columns, fontsize=14)\n",
    "    fig.savefig('img1/data_corr.png', dpi=600)\n",
    "\n",
    "    fig, ax = plt.subplots()\n",
    "    scatter_matrix(data, figsize=(35, 35), ax=ax)\n",
    "    fig.savefig('img1/data_corr_scatter.png', dpi=600)\n",
    "\n",
    "    plt.show()\n"
   ]
  },
  {
   "cell_type": "code",
   "execution_count": 6,
   "metadata": {},
   "outputs": [],
   "source": [
    "def sigmoid(x):\n",
    "    return 1. / (1. + math.exp(-1*x)) \n",
    "\n",
    "def cost_func(y, yest):\n",
    "    return -1*y*log(yest) + -1*(1-y)*log(1 + -1*yest)\n",
    "\n",
    "def estimate(w, fi):\n",
    "    return np.apply_along_axis(sigmoid, 1, fi.T.dot(w)).reshape(-1, 1)\n",
    "\n",
    "def train(w, fi, eta, tol, y):\n",
    "    stop = False\n",
    "    \n",
    "    # Initial test\n",
    "    yest = estimate(w, fi)\n",
    "    e = y - yest\n",
    "    delta = -1*(e.T.dot(fi.T))/len(fi)\n",
    "    w = w - delta.T*eta\n",
    "    prev_err = np.array([ cost_func(y_, yest_) for y_, yest_ in zip(y, yest)]).mean()\n",
    "\n",
    "    iter_ = 1\n",
    "    while not stop:\n",
    "        yest = estimate(w, fi)\n",
    "        e = y - yest\n",
    "        delta = -1*(e.T.dot(fi.T))/len(fi)\n",
    "        w = w - delta.T*eta\n",
    "        \n",
    "        err = np.array([ cost_func(y_, yest_) for y_, yest_ in zip(y, yest)]).mean()\n",
    "        err_delt = prev_err - err\n",
    "        if err_delt < tol:\n",
    "            stop = True\n",
    "        prev_err = err\n",
    "        sys.stdout.write(\"\\r{}\\t{:09.8f}\\t{:09.8f}\".format(iter_, err, err_delt))\n",
    "        sys.stdout.flush()\n",
    "        iter_ += 1\n",
    "    return w\n",
    "\n",
    "def predict(yest, boundry):\n",
    "    return 1 if yest > boundry else 0"
   ]
  },
  {
   "cell_type": "code",
   "execution_count": 7,
   "metadata": {},
   "outputs": [],
   "source": [
    "data = load()\n",
    "df_train, df_test = dataset(data, split=0.8)\n",
    "\n",
    "# Data normalization\n",
    "scaler = StandardScaler() \n",
    "df_train_out = df_train.loc[:,'label']\n",
    "df_train_inp = df_train.drop('label', axis=1)\n",
    "scaler.fit(df_train_inp) \n",
    "df_train_inp_scaled = scaler.transform(df_train_inp)"
   ]
  },
  {
   "cell_type": "code",
   "execution_count": 8,
   "metadata": {},
   "outputs": [
    {
     "name": "stdout",
     "output_type": "stream",
     "text": [
      "4192.0000000\t0.0403222\t0.0000000"
     ]
    }
   ],
   "source": [
    "# w and fi\n",
    "ones = np.ones([len(df_train_inp_scaled),1])\n",
    "fi = np.concatenate((ones, df_train_inp_scaled),axis=1).T\n",
    "w = np.random.uniform(0,1,(len(fi[:,0]), 1))\n",
    "\n",
    "# Train\n",
    "eta = 1e-2\n",
    "tol = 1e-8\n",
    "w = train(w, fi, eta, tol, df_train_out.to_numpy().reshape(-1, 1))\n",
    "\n",
    "with open('data1', 'wb+') as f:\n",
    "    pickle.dump(w, f)"
   ]
  },
  {
   "cell_type": "code",
   "execution_count": 9,
   "metadata": {},
   "outputs": [],
   "source": [
    "# Test\n",
    "df_test_out = df_train.loc[:,'label']\n",
    "df_test_inp = df_train.drop('label', axis=1)\n",
    "df_test_inp_scaled = scaler.transform(df_test_inp)\n",
    "ones = np.ones([len(df_test_inp_scaled),1])\n",
    "fi = np.concatenate((ones, df_test_inp_scaled),axis=1).T\n",
    "yest = estimate(w, fi)\n"
   ]
  },
  {
   "cell_type": "code",
   "execution_count": 10,
   "metadata": {},
   "outputs": [
    {
     "data": {
      "image/png": "[encoded data removed]",
      "text/plain": [
       "<Figure size 432x288 with 1 Axes>"
      ]
     },
     "metadata": {
      "needs_background": "light"
     },
     "output_type": "display_data"
    }
   ],
   "source": [
    "# Results ROC\n",
    "fpr, tpr, thresholds = roc_curve(df_test_out, yest)\n",
    "plt.plot(fpr, tpr, label='Regressão logarítmica')\n",
    "plt.plot([0, 1], [0, 1], color='red', lw=1, linestyle='--', label='Decisão aleatória')\n",
    "plt.title('Curva ROC')\n",
    "plt.xlabel('FP')\n",
    "plt.ylabel('TP')\n",
    "plt.xlim([-0.05, 1.0])\n",
    "plt.ylim([-0.05, 1.05])\n",
    "plt.grid(True)\n",
    "plt.legend()\n",
    "plt.savefig('img1/roc')\n",
    "plt.show()\n"
   ]
  },
  {
   "cell_type": "code",
   "execution_count": 11,
   "metadata": {},
   "outputs": [
    {
     "name": "stderr",
     "output_type": "stream",
     "text": [
      "/usr/lib/python3.7/site-packages/sklearn/metrics/classification.py:1437: UndefinedMetricWarning: F-score is ill-defined and being set to 0.0 due to no predicted samples.\n",
      "  'precision', 'predicted', average, warn_for)\n"
     ]
    }
   ],
   "source": [
    "boundries = np.linspace(0, 1, 1001)\n",
    "f_scores = []\n",
    "y = df_test_out.to_numpy()\n",
    "for boundry in boundries:\n",
    "    pred = np.array([predict(yest_, boundry) for yest_ in yest]).reshape(-1, 1)\n",
    "    f_scores.append(f1_score(y, pred))\n",
    "best_score = max(f_scores)\n",
    "best_boundry = boundries[f_scores.index(best_score)]"
   ]
  },
  {
   "cell_type": "code",
   "execution_count": 12,
   "metadata": {},
   "outputs": [
    {
     "name": "stdout",
     "output_type": "stream",
     "text": [
      "Score 0.9757647993643226\tBoundry 0.659\n"
     ]
    },
    {
     "data": {
      "image/png": "[encoded data removed]",
      "text/plain": [
       "<Figure size 432x288 with 1 Axes>"
      ]
     },
     "metadata": {
      "needs_background": "light"
     },
     "output_type": "display_data"
    }
   ],
   "source": [
    "plt.subplot()\n",
    "plt.grid(True)\n",
    "plt.plot(boundries, f_scores, label='Scores')\n",
    "plt.plot(best_boundry,best_score, 'rx', label='Melhor score ({}, {:4})'.format(best_boundry,best_score))\n",
    "plt.title('$F_1$ score')\n",
    "plt.xlabel('Threshold')\n",
    "plt.ylabel('Score')\n",
    "plt.legend()\n",
    "plt.savefig('img1/f1_score')\n",
    "print('Score {}\\tBoundry {}'.format(best_score,best_boundry))"
   ]
  },
  {
   "cell_type": "code",
   "execution_count": 13,
   "metadata": {},
   "outputs": [
    {
     "data": {
      "text/plain": [
       "array([[1245,   22],\n",
       "       [  39, 1228]])"
      ]
     },
     "execution_count": 13,
     "metadata": {},
     "output_type": "execute_result"
    }
   ],
   "source": [
    "pred = np.array([predict(yest_, best_boundry) for yest_ in yest]).reshape(-1, 1)\n",
    "cm = confusion_matrix(df_test_out.to_numpy(), pred)\n",
    "cm"
   ]
  },
  {
   "cell_type": "code",
   "execution_count": 12,
   "metadata": {},
   "outputs": [
    {
     "data": {
      "text/plain": [
       "<matplotlib.axes._subplots.AxesSubplot at 0x7f551eb963d0>"
      ]
     },
     "execution_count": 12,
     "metadata": {},
     "output_type": "execute_result"
    },
    {
     "data": {
      "image/png": "[encoded data removed]",
      "text/plain": [
       "<Figure size 432x288 with 2 Axes>"
      ]
     },
     "metadata": {
      "needs_background": "light"
     },
     "output_type": "display_data"
    }
   ],
   "source": [
    "df_cm = pd.DataFrame(cm, index = ['Mulher', 'Homem'],\n",
    "                  columns = ['Mulher', 'Homem'])\n",
    "plt.figure()\n",
    "sb.set(font_scale=1.4)\n",
    "sb.heatmap(df_cm, annot=True,annot_kws={\"size\": 16})"
   ]
  },
  {
   "cell_type": "code",
   "execution_count": null,
   "metadata": {},
   "outputs": [],
   "source": []
  },
  {
   "cell_type": "code",
   "execution_count": null,
   "metadata": {},
   "outputs": [],
   "source": []
  },
  {
   "cell_type": "code",
   "execution_count": null,
   "metadata": {},
   "outputs": [],
   "source": []
  },
  {
   "cell_type": "code",
   "execution_count": null,
   "metadata": {},
   "outputs": [],
   "source": []
  },
  {
   "cell_type": "code",
   "execution_count": null,
   "metadata": {},
   "outputs": [],
   "source": []
  },
  {
   "cell_type": "code",
   "execution_count": null,
   "metadata": {},
   "outputs": [],
   "source": []
  },
  {
   "cell_type": "code",
   "execution_count": null,
   "metadata": {},
   "outputs": [],
   "source": []
  },
  {
   "cell_type": "code",
   "execution_count": null,
   "metadata": {},
   "outputs": [],
   "source": []
  },
  {
   "cell_type": "code",
   "execution_count": null,
   "metadata": {},
   "outputs": [],
   "source": []
  },
  {
   "cell_type": "code",
   "execution_count": null,
   "metadata": {},
   "outputs": [],
   "source": []
  },
  {
   "cell_type": "code",
   "execution_count": null,
   "metadata": {},
   "outputs": [],
   "source": []
  },
  {
   "cell_type": "code",
   "execution_count": null,
   "metadata": {},
   "outputs": [],
   "source": []
  }
 ],
 "metadata": {
  "kernelspec": {
   "display_name": "Python 3",
   "language": "python",
   "name": "python3"
  },
  "language_info": {
   "codemirror_mode": {
    "name": "ipython",
    "version": 3
   },
   "file_extension": ".py",
   "mimetype": "text/x-python",
   "name": "python",
   "nbconvert_exporter": "python",
   "pygments_lexer": "ipython3",
   "version": "3.7.4"
  }
 },
 "nbformat": 4,
 "nbformat_minor": 4
}
